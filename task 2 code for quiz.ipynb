{
 "cells": [
  {
   "cell_type": "code",
   "execution_count": null,
   "id": "15abd092",
   "metadata": {},
   "outputs": [],
   "source": [
    "import random\n",
    "\n",
    "questions = [\n",
    "    {\n",
    "        \"question\": \"What is the capital of France?\",\n",
    "        \"options\": [\"Paris\", \"London\", \"Berlin\", \"Madrid\"],\n",
    "        \"answer\": \"Paris\"\n",
    "    },\n",
    "    {\n",
    "        \"question\": \"Who painted the Mona Lisa?\",\n",
    "        \"options\": [\"Leonardo da Vinci\", \"Pablo Picasso\", \"Vincent van Gogh\", \"Michelangelo\"],\n",
    "        \"answer\": \"Leonardo da Vinci\"\n",
    "    },\n",
    "    {\n",
    "        \"question\": \"What is the largest planet in our solar system?\",\n",
    "        \"options\": [\"Jupiter\", \"Saturn\", \"Earth\", \"Mars\"],\n",
    "        \"answer\": \"Jupiter\"\n",
    "    }\n",
    "]\n",
    "\n",
    "def ask_question(question):\n",
    "    print(question[\"question\"])\n",
    "    random.shuffle(question[\"options\"])\n",
    "    for i, option in enumerate(question[\"options\"]):\n",
    "        print(f\"{i+1}. {option}\")\n",
    "    user_answer = input(\"Enter your answer (1/2/3/4): \")\n",
    "    if user_answer.isdigit() and 1 <= int(user_answer) <= len(question[\"options\"]):\n",
    "        selected_option = question[\"options\"][int(user_answer)-1]\n",
    "        if selected_option == question[\"answer\"]:\n",
    "            return True\n",
    "    return False\n",
    "\n",
    "def play_quiz():\n",
    "    score = 0\n",
    "    random.shuffle(questions)\n",
    "    for question in questions:\n",
    "        if ask_question(question):\n",
    "            score += 1\n",
    "            print(\"Correct!\")\n",
    "        else:\n",
    "            print(\"Incorrect!\")\n",
    "        print()\n",
    "    print(f\"Your score: {score}/{len(questions)}\")\n",
    "\n",
    "play_quiz()"
   ]
  }
 ],
 "metadata": {
  "kernelspec": {
   "display_name": "Python 3 (ipykernel)",
   "language": "python",
   "name": "python3"
  },
  "language_info": {
   "codemirror_mode": {
    "name": "ipython",
    "version": 3
   },
   "file_extension": ".py",
   "mimetype": "text/x-python",
   "name": "python",
   "nbconvert_exporter": "python",
   "pygments_lexer": "ipython3",
   "version": "3.10.9"
  }
 },
 "nbformat": 4,
 "nbformat_minor": 5
}
